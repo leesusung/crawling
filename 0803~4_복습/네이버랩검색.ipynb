{
 "cells": [
  {
   "cell_type": "code",
   "execution_count": null,
   "metadata": {},
   "outputs": [],
   "source": [
    "#  종합 \n",
    "# 동적페이지  : url 변경없이 웹페이지 데이터 변경  Json :api\n",
    "# 정적 페이지  url  변경 해서 웹페이지 데이터 변경  HTml : BeautifulSoup (css selector)\n",
    " \n",
    "#  실습 네이버 트랜드 \n",
    "#  직방 원룸 가격 수집 \n",
    "#  daum 환율 header 설정 (user-agent, referer)\n",
    "# html 문법 css-selector \n",
    "#  naver 연관검색어 키워드 크롤링\n",
    "#  gmarket 아이템 크롤링 \n",
    "\n"
   ]
  },
  {
   "cell_type": "code",
   "execution_count": 2,
   "metadata": {},
   "outputs": [],
   "source": [
    "import pandas as pd\n",
    "import requests , json\n",
    "from bs4 import BeautifulSoup"
   ]
  },
  {
   "cell_type": "code",
   "execution_count": 65,
   "metadata": {},
   "outputs": [],
   "source": [
    "# url 따오기\n",
    "CLIENT_ID , CLIENT_SECRET = 'Zdd_xJ3zOXMjhFVyunEB' , 'BRnHmGrUwM'\n",
    "\n",
    "url = 'https://openapi.naver.com/v1/datalab/search'\n",
    "\n",
    "params= {\"startDate\": \"2021-11-01\",\n",
    "  \"endDate\": \"2022-07-31\",\n",
    "  \"timeUnit\": \"month\",\n",
    "  \"keywordGroups\": [\n",
    "    { \"groupName\": \"침착맨\", \"keywords\": ['이병건','이말년']},\n",
    "    { \"groupName\": \"주호민\", \"keywords\": ['쭈펄','쭈호민']},\n",
    "    ]\n",
    "\n",
    "}\n",
    "\n",
    "header = { \n",
    "    \"Content-Type\": \"application/json\",\n",
    "    \"X-Naver-Client-Id\": CLIENT_ID,\n",
    "    \"X-Naver-Client-Secret\": CLIENT_SECRET,    \n",
    "\n",
    "}"
   ]
  },
  {
   "cell_type": "code",
   "execution_count": 66,
   "metadata": {},
   "outputs": [
    {
     "data": {
      "text/plain": [
       "<Response [200]>"
      ]
     },
     "execution_count": 66,
     "metadata": {},
     "output_type": "execute_result"
    }
   ],
   "source": [
    "response=requests.post(url, data= json.dumps(params),headers= header)\n",
    "response"
   ]
  },
  {
   "cell_type": "code",
   "execution_count": 67,
   "metadata": {},
   "outputs": [],
   "source": [
    "data=response.json()['results']"
   ]
  },
  {
   "cell_type": "code",
   "execution_count": 68,
   "metadata": {},
   "outputs": [],
   "source": [
    "df2 = pd.DataFrame({\n",
    "'date' : [period['period'] for period in data[0]['data']],\n",
    "'이말년' : [ratio['ratio'] for ratio in data[0]['data']],\n",
    "'주호민' : [ratio['ratio'] for ratio in data[1]['data']],\n",
    "})"
   ]
  },
  {
   "cell_type": "code",
   "execution_count": 69,
   "metadata": {},
   "outputs": [
    {
     "data": {
      "text/html": [
       "<div>\n",
       "<style scoped>\n",
       "    .dataframe tbody tr th:only-of-type {\n",
       "        vertical-align: middle;\n",
       "    }\n",
       "\n",
       "    .dataframe tbody tr th {\n",
       "        vertical-align: top;\n",
       "    }\n",
       "\n",
       "    .dataframe thead th {\n",
       "        text-align: right;\n",
       "    }\n",
       "</style>\n",
       "<table border=\"1\" class=\"dataframe\">\n",
       "  <thead>\n",
       "    <tr style=\"text-align: right;\">\n",
       "      <th></th>\n",
       "      <th>date</th>\n",
       "      <th>이말년</th>\n",
       "      <th>주호민</th>\n",
       "    </tr>\n",
       "  </thead>\n",
       "  <tbody>\n",
       "    <tr>\n",
       "      <th>0</th>\n",
       "      <td>2021-11-01</td>\n",
       "      <td>28.33299</td>\n",
       "      <td>0.00633</td>\n",
       "    </tr>\n",
       "    <tr>\n",
       "      <th>1</th>\n",
       "      <td>2021-12-01</td>\n",
       "      <td>24.95381</td>\n",
       "      <td>0.01583</td>\n",
       "    </tr>\n",
       "    <tr>\n",
       "      <th>2</th>\n",
       "      <td>2022-01-01</td>\n",
       "      <td>74.26393</td>\n",
       "      <td>0.00633</td>\n",
       "    </tr>\n",
       "    <tr>\n",
       "      <th>3</th>\n",
       "      <td>2022-02-01</td>\n",
       "      <td>94.73750</td>\n",
       "      <td>0.05383</td>\n",
       "    </tr>\n",
       "    <tr>\n",
       "      <th>4</th>\n",
       "      <td>2022-03-01</td>\n",
       "      <td>100.00000</td>\n",
       "      <td>0.05700</td>\n",
       "    </tr>\n",
       "    <tr>\n",
       "      <th>5</th>\n",
       "      <td>2022-04-01</td>\n",
       "      <td>36.23359</td>\n",
       "      <td>0.02850</td>\n",
       "    </tr>\n",
       "    <tr>\n",
       "      <th>6</th>\n",
       "      <td>2022-05-01</td>\n",
       "      <td>30.06851</td>\n",
       "      <td>0.03483</td>\n",
       "    </tr>\n",
       "    <tr>\n",
       "      <th>7</th>\n",
       "      <td>2022-06-01</td>\n",
       "      <td>41.38207</td>\n",
       "      <td>0.28186</td>\n",
       "    </tr>\n",
       "    <tr>\n",
       "      <th>8</th>\n",
       "      <td>2022-07-01</td>\n",
       "      <td>43.69715</td>\n",
       "      <td>0.25441</td>\n",
       "    </tr>\n",
       "  </tbody>\n",
       "</table>\n",
       "</div>"
      ],
      "text/plain": [
       "         date        이말년      주호민\n",
       "0  2021-11-01   28.33299  0.00633\n",
       "1  2021-12-01   24.95381  0.01583\n",
       "2  2022-01-01   74.26393  0.00633\n",
       "3  2022-02-01   94.73750  0.05383\n",
       "4  2022-03-01  100.00000  0.05700\n",
       "5  2022-04-01   36.23359  0.02850\n",
       "6  2022-05-01   30.06851  0.03483\n",
       "7  2022-06-01   41.38207  0.28186\n",
       "8  2022-07-01   43.69715  0.25441"
      ]
     },
     "execution_count": 69,
     "metadata": {},
     "output_type": "execute_result"
    }
   ],
   "source": [
    "df2"
   ]
  },
  {
   "cell_type": "code",
   "execution_count": 72,
   "metadata": {},
   "outputs": [
    {
     "ename": "NameError",
     "evalue": "name 'figsize' is not defined",
     "output_type": "error",
     "traceback": [
      "\u001b[1;31m---------------------------------------------------------------------------\u001b[0m",
      "\u001b[1;31mNameError\u001b[0m                                 Traceback (most recent call last)",
      "\u001b[1;32m~\\AppData\\Local\\Temp/ipykernel_7300/434052675.py\u001b[0m in \u001b[0;36m<module>\u001b[1;34m\u001b[0m\n\u001b[1;32m----> 1\u001b[1;33m \u001b[0mdf2\u001b[0m\u001b[1;33m.\u001b[0m\u001b[0mplot\u001b[0m\u001b[1;33m(\u001b[0m\u001b[0mfigsize\u001b[0m\u001b[1;33m(\u001b[0m\u001b[1;36m20\u001b[0m\u001b[1;33m,\u001b[0m\u001b[1;36m5\u001b[0m\u001b[1;33m)\u001b[0m\u001b[1;33m)\u001b[0m\u001b[1;33m\u001b[0m\u001b[1;33m\u001b[0m\u001b[0m\n\u001b[0m",
      "\u001b[1;31mNameError\u001b[0m: name 'figsize' is not defined"
     ]
    }
   ],
   "source": [
    "df2.plot(figsize(20,5))"
   ]
  },
  {
   "cell_type": "code",
   "execution_count": 63,
   "metadata": {},
   "outputs": [
    {
     "data": {
      "text/plain": [
       "{'title': '침착맨',\n",
       " 'keywords': ['이병건', '이말년'],\n",
       " 'data': [{'period': '2021-06-01', 'ratio': 37.28292},\n",
       "  {'period': '2021-07-01', 'ratio': 46.85886},\n",
       "  {'period': '2021-08-01', 'ratio': 65.88195},\n",
       "  {'period': '2021-09-01', 'ratio': 33.36113},\n",
       "  {'period': '2021-10-01', 'ratio': 25.8659},\n",
       "  {'period': '2021-11-01', 'ratio': 28.33299},\n",
       "  {'period': '2021-12-01', 'ratio': 24.95381},\n",
       "  {'period': '2022-01-01', 'ratio': 74.26393},\n",
       "  {'period': '2022-02-01', 'ratio': 94.7375},\n",
       "  {'period': '2022-03-01', 'ratio': 100},\n",
       "  {'period': '2022-04-01', 'ratio': 36.23359},\n",
       "  {'period': '2022-05-01', 'ratio': 30.06851},\n",
       "  {'period': '2022-06-01', 'ratio': 41.38207},\n",
       "  {'period': '2022-07-01', 'ratio': 43.69715}]}"
      ]
     },
     "execution_count": 63,
     "metadata": {},
     "output_type": "execute_result"
    }
   ],
   "source": [
    "data[0]"
   ]
  },
  {
   "cell_type": "code",
   "execution_count": 64,
   "metadata": {},
   "outputs": [
    {
     "data": {
      "text/plain": [
       "{'title': '주호민',\n",
       " 'keywords': ['쭈펄', '쭈호민'],\n",
       " 'data': [{'period': '2021-06-01', 'ratio': 0.03694},\n",
       "  {'period': '2021-07-01', 'ratio': 0.02111},\n",
       "  {'period': '2021-08-01', 'ratio': 0.07917},\n",
       "  {'period': '2021-09-01', 'ratio': 0.01161},\n",
       "  {'period': '2021-11-01', 'ratio': 0.00633},\n",
       "  {'period': '2021-12-01', 'ratio': 0.01583},\n",
       "  {'period': '2022-01-01', 'ratio': 0.00633},\n",
       "  {'period': '2022-02-01', 'ratio': 0.05383},\n",
       "  {'period': '2022-03-01', 'ratio': 0.057},\n",
       "  {'period': '2022-04-01', 'ratio': 0.0285},\n",
       "  {'period': '2022-05-01', 'ratio': 0.03483},\n",
       "  {'period': '2022-06-01', 'ratio': 0.28186},\n",
       "  {'period': '2022-07-01', 'ratio': 0.25441}]}"
      ]
     },
     "execution_count": 64,
     "metadata": {},
     "output_type": "execute_result"
    }
   ],
   "source": [
    "data[1]"
   ]
  },
  {
   "cell_type": "code",
   "execution_count": null,
   "metadata": {},
   "outputs": [],
   "source": []
  }
 ],
 "metadata": {
  "kernelspec": {
   "display_name": "Python 3.9.7 ('base')",
   "language": "python",
   "name": "python3"
  },
  "language_info": {
   "codemirror_mode": {
    "name": "ipython",
    "version": 3
   },
   "file_extension": ".py",
   "mimetype": "text/x-python",
   "name": "python",
   "nbconvert_exporter": "python",
   "pygments_lexer": "ipython3",
   "version": "3.9.7"
  },
  "orig_nbformat": 4,
  "vscode": {
   "interpreter": {
    "hash": "6ac4e73d11340ea7891153572ed5b2c191aafe1be537ce45d19414621fb20d1a"
   }
  }
 },
 "nbformat": 4,
 "nbformat_minor": 2
}
