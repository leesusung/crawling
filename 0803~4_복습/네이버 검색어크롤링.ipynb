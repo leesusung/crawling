{
 "cells": [
  {
   "cell_type": "code",
   "execution_count": 1,
   "metadata": {},
   "outputs": [],
   "source": [
    "import pandas as pd\n",
    "import requests \n",
    "from bs4 import BeautifulSoup"
   ]
  },
  {
   "cell_type": "code",
   "execution_count": 2,
   "metadata": {},
   "outputs": [],
   "source": [
    "keyword = '침착맨'\n",
    "\n",
    "url = f'https://search.naver.com/search.naver?where=nexearch&sm=top_hty&fbm=0&ie=utf8&query={keyword}'"
   ]
  },
  {
   "cell_type": "code",
   "execution_count": 3,
   "metadata": {},
   "outputs": [],
   "source": [
    "response = requests.get(url)"
   ]
  },
  {
   "cell_type": "code",
   "execution_count": null,
   "metadata": {},
   "outputs": [],
   "source": [
    "response.text"
   ]
  },
  {
   "cell_type": "code",
   "execution_count": null,
   "metadata": {},
   "outputs": [],
   "source": [
    "dom = BeautifulSoup(response.text, 'html.parser')\n",
    "dom"
   ]
  },
  {
   "cell_type": "code",
   "execution_count": 16,
   "metadata": {},
   "outputs": [
    {
     "data": {
      "text/plain": [
       "[<li class=\"item\"> <a class=\"keyword\" href=\"?where=nexearch&amp;query=%EC%B9%A8%EC%B0%A9%EB%A7%A8+%EC%B9%B4%ED%8E%98&amp;ie=utf8&amp;sm=tab_she&amp;qdt=0\" onclick=\"return goOtherCR(this, 'a=rsk_top*q.list1&amp;r=1&amp;u=' + urlencode(this.href))\"> <div class=\"tit\">침착맨 카페</div> </a> </li>,\n",
       " <li class=\"item\"> <a class=\"keyword\" href=\"?where=nexearch&amp;query=%EC%B9%A8%EC%B0%A9%EB%A7%A8+%EC%9D%B8%EC%83%9D%EB%84%A4%EC%BB%B7&amp;ie=utf8&amp;sm=tab_she&amp;qdt=0\" onclick=\"return goOtherCR(this, 'a=rsk_top*a.list1&amp;r=2&amp;u=' + urlencode(this.href))\"> <div class=\"tit\">침착맨 인생네컷</div> </a> </li>,\n",
       " <li class=\"item\"> <a class=\"keyword\" href=\"?where=nexearch&amp;query=%EC%B9%A8%EC%B0%A9%EB%A7%A8+%EB%84%A4%EC%BB%B7&amp;ie=utf8&amp;sm=tab_she&amp;qdt=0\" onclick=\"return goOtherCR(this, 'a=rsk_top*q.list1&amp;r=3&amp;u=' + urlencode(this.href))\"> <div class=\"tit\">침착맨 네컷</div> </a> </li>,\n",
       " <li class=\"item\"> <a class=\"keyword\" href=\"?where=nexearch&amp;query=%EC%B9%A8%EC%B0%A9%EB%A7%A8+%EA%B5%BF%EC%A6%88&amp;ie=utf8&amp;sm=tab_she&amp;qdt=0\" onclick=\"return goOtherCR(this, 'a=rsk_top*q.list1&amp;r=4&amp;u=' + urlencode(this.href))\"> <div class=\"tit\">침착맨 굿즈</div> </a> </li>,\n",
       " <li class=\"item\"> <a class=\"keyword\" href=\"?where=nexearch&amp;query=%EC%B9%A8%EC%B0%A9%EB%A7%A8+%EA%B3%BC%EA%B1%B0&amp;ie=utf8&amp;sm=tab_she&amp;qdt=0\" onclick=\"return goOtherCR(this, 'a=rsk_top*q.list1&amp;r=5&amp;u=' + urlencode(this.href))\"> <div class=\"tit\">침착맨 과거</div> </a> </li>,\n",
       " <li class=\"item\"> <a class=\"keyword\" href=\"?where=nexearch&amp;query=%EC%B9%A8%EC%B0%A9%EB%A7%A8+%ED%8B%B0%EC%85%94%EC%B8%A0&amp;ie=utf8&amp;sm=tab_she&amp;qdt=0\" onclick=\"return goOtherCR(this, 'a=rsk_top*a.list1&amp;r=6&amp;u=' + urlencode(this.href))\"> <div class=\"tit\">침착맨 티셔츠</div> </a> </li>,\n",
       " <li class=\"item\"> <a class=\"keyword\" href=\"?where=nexearch&amp;query=%EC%B9%A8%EC%B0%A9%EB%A7%A8+mbti&amp;ie=utf8&amp;sm=tab_she&amp;qdt=0\" onclick=\"return goOtherCR(this, 'a=rsk_top*a.list1&amp;r=7&amp;u=' + urlencode(this.href))\"> <div class=\"tit\">침착맨 mbti</div> </a> </li>,\n",
       " <li class=\"item\"> <a class=\"keyword\" href=\"?where=nexearch&amp;query=%EC%B9%A8%EC%B0%A9%EB%A7%A8+%EB%82%98%EC%9D%B4&amp;ie=utf8&amp;sm=tab_she&amp;qdt=0\" onclick=\"return goOtherCR(this, 'a=rsk_top*q.list1&amp;r=8&amp;u=' + urlencode(this.href))\"> <div class=\"tit\">침착맨 나이</div> </a> </li>,\n",
       " <li class=\"item\"> <a class=\"keyword\" href=\"?where=nexearch&amp;query=%EC%B9%A8%EC%B0%A9%EB%A7%A8+%EC%A7%A4&amp;ie=utf8&amp;sm=tab_she&amp;qdt=0\" onclick=\"return goOtherCR(this, 'a=rsk_top*a.list1&amp;r=9&amp;u=' + urlencode(this.href))\"> <div class=\"tit\">침착맨 짤</div> </a> </li>,\n",
       " <li class=\"item\"> <a class=\"keyword\" href=\"?where=nexearch&amp;query=%EC%B9%A8%EC%B0%A9%EB%A7%A8+%EC%95%84%EB%82%B4&amp;ie=utf8&amp;sm=tab_she&amp;qdt=0\" onclick=\"return goOtherCR(this, 'a=rsk_top*q.list1&amp;r=10&amp;u=' + urlencode(this.href))\"> <div class=\"tit\">침착맨 아내</div> </a> </li>]"
      ]
     },
     "execution_count": 16,
     "metadata": {},
     "output_type": "execute_result"
    }
   ],
   "source": [
    "elements =dom.select('.lst_related_srch>.item')\n",
    "elements"
   ]
  },
  {
   "cell_type": "code",
   "execution_count": 19,
   "metadata": {},
   "outputs": [],
   "source": [
    "keywords= []\n",
    "for i in elements :\n",
    "    keyword= i.select_one(\".tit\").text\n",
    "    keywords.append(keyword)\n",
    "\n",
    "#  keywords2 = [i.slect_one(\".tit\").text for i in elements]"
   ]
  },
  {
   "cell_type": "code",
   "execution_count": 20,
   "metadata": {},
   "outputs": [
    {
     "data": {
      "text/plain": [
       "['침착맨 카페',\n",
       " '침착맨 인생네컷',\n",
       " '침착맨 네컷',\n",
       " '침착맨 굿즈',\n",
       " '침착맨 과거',\n",
       " '침착맨 티셔츠',\n",
       " '침착맨 mbti',\n",
       " '침착맨 나이',\n",
       " '침착맨 짤',\n",
       " '침착맨 아내']"
      ]
     },
     "execution_count": 20,
     "metadata": {},
     "output_type": "execute_result"
    }
   ],
   "source": [
    "keywords"
   ]
  },
  {
   "cell_type": "code",
   "execution_count": null,
   "metadata": {},
   "outputs": [],
   "source": []
  }
 ],
 "metadata": {
  "kernelspec": {
   "display_name": "Python 3.9.7 ('base')",
   "language": "python",
   "name": "python3"
  },
  "language_info": {
   "codemirror_mode": {
    "name": "ipython",
    "version": 3
   },
   "file_extension": ".py",
   "mimetype": "text/x-python",
   "name": "python",
   "nbconvert_exporter": "python",
   "pygments_lexer": "ipython3",
   "version": "3.9.7"
  },
  "orig_nbformat": 4,
  "vscode": {
   "interpreter": {
    "hash": "6ac4e73d11340ea7891153572ed5b2c191aafe1be537ce45d19414621fb20d1a"
   }
  }
 },
 "nbformat": 4,
 "nbformat_minor": 2
}
