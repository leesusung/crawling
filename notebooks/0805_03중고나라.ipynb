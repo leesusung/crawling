{
 "cells": [
  {
   "cell_type": "code",
   "execution_count": 2,
   "metadata": {},
   "outputs": [],
   "source": [
    "#   selenium  iframe 사용 데이텃 ㅜ집   (중고나라)\n"
   ]
  },
  {
   "cell_type": "code",
   "execution_count": 3,
   "metadata": {},
   "outputs": [],
   "source": [
    "from selenium import webdriver\n",
    "from selenium.webdriver.common.by import By"
   ]
  },
  {
   "cell_type": "code",
   "execution_count": 4,
   "metadata": {},
   "outputs": [],
   "source": [
    "url = 'https://cafe.naver.com/joonggonara.cafe'"
   ]
  },
  {
   "cell_type": "code",
   "execution_count": null,
   "metadata": {},
   "outputs": [],
   "source": []
  },
  {
   "cell_type": "code",
   "execution_count": 7,
   "metadata": {},
   "outputs": [],
   "source": [
    "# 1. 웹브라우저 열기 및 페이지 이동 \n",
    "driver = webdriver.Chrome()\n",
    "driver.get(url)"
   ]
  },
  {
   "cell_type": "code",
   "execution_count": 28,
   "metadata": {},
   "outputs": [],
   "source": [
    "import time\n",
    "time.sleep(3)"
   ]
  },
  {
   "cell_type": "code",
   "execution_count": 9,
   "metadata": {},
   "outputs": [],
   "source": [
    "#  2. 맥북검색 topLayerQueryInput\n",
    "keyword= '맥북'\n",
    "driver.find_element(By.CSS_SELECTOR , \"#topLayerQueryInput\").send_keys(keyword)"
   ]
  },
  {
   "cell_type": "code",
   "execution_count": 11,
   "metadata": {},
   "outputs": [],
   "source": [
    "driver.execute_script('searchBoard();') # 검색버튼 실행"
   ]
  },
  {
   "cell_type": "code",
   "execution_count": 13,
   "metadata": {},
   "outputs": [
    {
     "data": {
      "text/plain": [
       "0"
      ]
     },
     "execution_count": 13,
     "metadata": {},
     "output_type": "execute_result"
    }
   ],
   "source": [
    "#  3. 게시글 목록 데이터 수집 (중요 ) : iframe\n",
    "selector = \".article-board > table > tbody > tr\"\n",
    "elements = driver.find_elements(By.CSS_SELECTOR , selector)\n",
    "len(elements)"
   ]
  },
  {
   "cell_type": "code",
   "execution_count": 15,
   "metadata": {},
   "outputs": [],
   "source": [
    "#  iframe 으로 driver 이동\n",
    "iframe = driver.find_element(By.CSS_SELECTOR, \"#cafe_main\")\n",
    "driver.switch_to.frame(iframe)"
   ]
  },
  {
   "cell_type": "code",
   "execution_count": 16,
   "metadata": {},
   "outputs": [
    {
     "data": {
      "text/plain": [
       "15"
      ]
     },
     "execution_count": 16,
     "metadata": {},
     "output_type": "execute_result"
    }
   ],
   "source": [
    "#  프레임 이동후 다시 수집\n",
    "selector = \".article-board > table > tbody > tr\"\n",
    "elements = driver.find_elements(By.CSS_SELECTOR , selector)\n",
    "len(elements)"
   ]
  },
  {
   "cell_type": "code",
   "execution_count": null,
   "metadata": {},
   "outputs": [],
   "source": [
    "#  원래 frame 으로 이동\n",
    "driver.switch_to.default_content()"
   ]
  },
  {
   "cell_type": "code",
   "execution_count": 18,
   "metadata": {},
   "outputs": [],
   "source": [
    "element = elements[0]"
   ]
  },
  {
   "cell_type": "code",
   "execution_count": 22,
   "metadata": {},
   "outputs": [],
   "source": [
    "# 4 . 웹브라우져 종료 \n",
    "title =element.find_element(By.CSS_SELECTOR, \".article\").text\n",
    "writer = element.find_element(By.CSS_SELECTOR, \".p-nick\").text"
   ]
  },
  {
   "cell_type": "code",
   "execution_count": 25,
   "metadata": {},
   "outputs": [],
   "source": [
    "data= [] \n",
    "for element in elements : \n",
    "    data.append({\n",
    "        'title':element.find_element(By.CSS_SELECTOR, \".article\").text,\n",
    "        'writer' :element.find_element(By.CSS_SELECTOR, \".p-nick\").text\n",
    "        \n",
    "    })\n",
    "\n",
    "df= pd.DataFrame(data)"
   ]
  },
  {
   "cell_type": "code",
   "execution_count": 26,
   "metadata": {},
   "outputs": [
    {
     "data": {
      "text/html": [
       "<div>\n",
       "<style scoped>\n",
       "    .dataframe tbody tr th:only-of-type {\n",
       "        vertical-align: middle;\n",
       "    }\n",
       "\n",
       "    .dataframe tbody tr th {\n",
       "        vertical-align: top;\n",
       "    }\n",
       "\n",
       "    .dataframe thead th {\n",
       "        text-align: right;\n",
       "    }\n",
       "</style>\n",
       "<table border=\"1\" class=\"dataframe\">\n",
       "  <thead>\n",
       "    <tr style=\"text-align: right;\">\n",
       "      <th></th>\n",
       "      <th>title</th>\n",
       "      <th>writer</th>\n",
       "    </tr>\n",
       "  </thead>\n",
       "  <tbody>\n",
       "    <tr>\n",
       "      <th>0</th>\n",
       "      <td>14인치 M1PRO M1MAX 엠원프로 엠원맥스 맥북프로 애플노트북</td>\n",
       "      <td>topontopcom</td>\n",
       "    </tr>\n",
       "    <tr>\n",
       "      <th>1</th>\n",
       "      <td>[매입]고장난 맥북, 노트북, 컴퓨터 선입매입(개인.기업 대량매입)</td>\n",
       "      <td>다사요컴닥터</td>\n",
       "    </tr>\n",
       "    <tr>\n",
       "      <th>2</th>\n",
       "      <td>[판매]맥북프로 2019 13인치 i5/8GB/256GB 풀박스</td>\n",
       "      <td>리퍼노트북</td>\n",
       "    </tr>\n",
       "    <tr>\n",
       "      <th>3</th>\n",
       "      <td>[미개봉/새제품] 맥북 프로 max 16인치 고급형 CTO 모델 판매 합니다.</td>\n",
       "      <td>하진아ㅂ</td>\n",
       "    </tr>\n",
       "    <tr>\n",
       "      <th>4</th>\n",
       "      <td>2021 맥북프로 14인치 m1 엠원 pro max CTO S급판매</td>\n",
       "      <td>FRANKCOM</td>\n",
       "    </tr>\n",
       "    <tr>\n",
       "      <th>5</th>\n",
       "      <td>[매입] 삼성플렉스북이온 LG그램 오딧세이 맥북 24시간 총알출장매입</td>\n",
       "      <td>다사요24 01058355451</td>\n",
       "    </tr>\n",
       "    <tr>\n",
       "      <th>6</th>\n",
       "      <td>2013 맥북 에어 미드 CTO 팝니다</td>\n",
       "      <td>ㅎㅎ</td>\n",
       "    </tr>\n",
       "    <tr>\n",
       "      <th>7</th>\n",
       "      <td>[미개봉] 맥북 m1 pro 16 32ram 512ssd</td>\n",
       "      <td>폭격융단</td>\n",
       "    </tr>\n",
       "    <tr>\n",
       "      <th>8</th>\n",
       "      <td>[매입]고장난 맥북, 노트북, 컴퓨터 선입매입(개인.기업 대량매입)</td>\n",
       "      <td>다사요컴닥터</td>\n",
       "    </tr>\n",
       "    <tr>\n",
       "      <th>9</th>\n",
       "      <td>엠원프로 엠원맥스 M1PRO M1MAX 애플 맥북프로 16인치판매</td>\n",
       "      <td>topontopcom</td>\n",
       "    </tr>\n",
       "    <tr>\n",
       "      <th>10</th>\n",
       "      <td>애플 맥북 프로 2013 late 13.3 인치 판매합니다.</td>\n",
       "      <td>아마토바</td>\n",
       "    </tr>\n",
       "    <tr>\n",
       "      <th>11</th>\n",
       "      <td>인텔 맥북프로 16인치 기본형 실버 풀박스</td>\n",
       "      <td>flame4</td>\n",
       "    </tr>\n",
       "    <tr>\n",
       "      <th>12</th>\n",
       "      <td>14인치 M1PRO M1MAX 엠원프로 엠원맥스 맥북프로 2021년형</td>\n",
       "      <td>FRANKCOM</td>\n",
       "    </tr>\n",
       "    <tr>\n",
       "      <th>13</th>\n",
       "      <td>2021 M1 맥북프로 16인치 스페이스그레이</td>\n",
       "      <td>흐루두두</td>\n",
       "    </tr>\n",
       "    <tr>\n",
       "      <th>14</th>\n",
       "      <td>맥북에어m1 16g 512 스페이스그레이+매직마우스2+파우치+거치대+독+허브 증정</td>\n",
       "      <td>lyc891010</td>\n",
       "    </tr>\n",
       "  </tbody>\n",
       "</table>\n",
       "</div>"
      ],
      "text/plain": [
       "                                            title             writer\n",
       "0           14인치 M1PRO M1MAX 엠원프로 엠원맥스 맥북프로 애플노트북        topontopcom\n",
       "1           [매입]고장난 맥북, 노트북, 컴퓨터 선입매입(개인.기업 대량매입)             다사요컴닥터\n",
       "2             [판매]맥북프로 2019 13인치 i5/8GB/256GB 풀박스              리퍼노트북\n",
       "3     [미개봉/새제품] 맥북 프로 max 16인치 고급형 CTO 모델 판매 합니다.               하진아ㅂ\n",
       "4           2021 맥북프로 14인치 m1 엠원 pro max CTO S급판매           FRANKCOM\n",
       "5          [매입] 삼성플렉스북이온 LG그램 오딧세이 맥북 24시간 총알출장매입  다사요24 01058355451\n",
       "6                           2013 맥북 에어 미드 CTO 팝니다                 ㅎㅎ\n",
       "7                 [미개봉] 맥북 m1 pro 16 32ram 512ssd               폭격융단\n",
       "8           [매입]고장난 맥북, 노트북, 컴퓨터 선입매입(개인.기업 대량매입)             다사요컴닥터\n",
       "9            엠원프로 엠원맥스 M1PRO M1MAX 애플 맥북프로 16인치판매        topontopcom\n",
       "10              애플 맥북 프로 2013 late 13.3 인치 판매합니다.               아마토바\n",
       "11                        인텔 맥북프로 16인치 기본형 실버 풀박스             flame4\n",
       "12         14인치 M1PRO M1MAX 엠원프로 엠원맥스 맥북프로 2021년형           FRANKCOM\n",
       "13                      2021 M1 맥북프로 16인치 스페이스그레이               흐루두두\n",
       "14  맥북에어m1 16g 512 스페이스그레이+매직마우스2+파우치+거치대+독+허브 증정          lyc891010"
      ]
     },
     "execution_count": 26,
     "metadata": {},
     "output_type": "execute_result"
    }
   ],
   "source": [
    "df"
   ]
  },
  {
   "cell_type": "code",
   "execution_count": 27,
   "metadata": {},
   "outputs": [],
   "source": [
    "driver.quit()"
   ]
  },
  {
   "cell_type": "code",
   "execution_count": null,
   "metadata": {},
   "outputs": [],
   "source": []
  }
 ],
 "metadata": {
  "kernelspec": {
   "display_name": "Python 3.8.8 ('base')",
   "language": "python",
   "name": "python3"
  },
  "language_info": {
   "codemirror_mode": {
    "name": "ipython",
    "version": 3
   },
   "file_extension": ".py",
   "mimetype": "text/x-python",
   "name": "python",
   "nbconvert_exporter": "python",
   "pygments_lexer": "ipython3",
   "version": "3.8.8"
  },
  "orig_nbformat": 4,
  "vscode": {
   "interpreter": {
    "hash": "f08154012ddadd8e950e6e9e035c7a7b32c136e7647e9b7c77e02eb723a8bedb"
   }
  }
 },
 "nbformat": 4,
 "nbformat_minor": 2
}
