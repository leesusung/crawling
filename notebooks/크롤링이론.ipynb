{
 "cells": [
  {
   "cell_type": "code",
   "execution_count": 2,
   "metadata": {},
   "outputs": [],
   "source": [
    "# 엘리먼트 하나 선택\n",
    "# tag 이름 : span\n",
    "# id : #kt\n",
    "# class : .kt\n",
    "# attr : [value=\"kt\"]\n",
    "\n",
    "# 여러개의 엘리먼트 선택\n",
    "# :not(.kt1)\n",
    "# :nth-child(n)\n",
    "# .wrap > p : 한단계 하위 엘리먼트\n",
    "# .wrap p : 모든 하위 엘리먼트\n",
    "# .kt1, .kt2 : 선택하는 모든 엘리먼트 선택\n",
    "# select() : 엘리먼트 여러개 선택\n",
    "# select_one() : 엘리먼트 한개 선택\n",
    "\n",
    "\n",
    "\n",
    "# xpath\n",
    "# //*[@id=\"nx_footer_related_keywords\"]/div/div[2]/ul/li[1]/a/div\n",
    "#  // : 최상위 엘리먼트 \n",
    "#  * : 모든하위 엘리먼트 : == css selector(.wrap p )  하위전체\n",
    "# [@id=\"nx_footer_related_keywords\"] : 속성값으로 엘리먼트 선택\n",
    "#  / :한단계 하위 엘리먼트  == css selector(.wrap > p) 하위 한단계\n",
    "# [n] :== nth=child[n]  n번째\n",
    "# ,\n",
    "\n",
    "# 크롤링 방법\n",
    "# 1requests :  json웹페이지 API 트래픽을 분석해서 데이터수집  : naver stock \n",
    "# 2requests :  json 공식적인 API  키 값 받아서 수집 : naver api papago , naver trend \n",
    "# 3requests : html  beautifulSoup(css selcetor) : gmarket \n",
    "# 4selenium : browser - python : 브라우져를 파이썬 코드로 컨트롤해서 데이터수집 :ted\n",
    "#  json이 유효한 정보량이 많음 \n",
    "#  좋은 순서 2 - 1 -3 -4\n",
    "#  selenium  속도 굉장히 좋지않음 but header refere 이런거 신경안써도되서좋음.\n",
    "\n",
    "\n",
    "# yield \n",
    "# iterable : 순서가 있는 집합  : list tuple \n",
    "# iterator : next 함수를 실행하여 값을 발생시키는 값 생성기\n",
    "# generator : iterator 간단하게 구현한 문법,\n"
   ]
  },
  {
   "cell_type": "code",
   "execution_count": null,
   "metadata": {},
   "outputs": [],
   "source": []
  }
 ],
 "metadata": {
  "kernelspec": {
   "display_name": "Python 3.8.8 ('base')",
   "language": "python",
   "name": "python3"
  },
  "language_info": {
   "codemirror_mode": {
    "name": "ipython",
    "version": 3
   },
   "file_extension": ".py",
   "mimetype": "text/x-python",
   "name": "python",
   "nbconvert_exporter": "python",
   "pygments_lexer": "ipython3",
   "version": "3.8.8"
  },
  "orig_nbformat": 4,
  "vscode": {
   "interpreter": {
    "hash": "f08154012ddadd8e950e6e9e035c7a7b32c136e7647e9b7c77e02eb723a8bedb"
   }
  }
 },
 "nbformat": 4,
 "nbformat_minor": 2
}
