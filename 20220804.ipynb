{
 "cells": [
  {
   "cell_type": "code",
   "execution_count": 2,
   "metadata": {},
   "outputs": [],
   "source": [
    "import pandas as pd\n",
    "import requests ,json "
   ]
  },
  {
   "cell_type": "code",
   "execution_count": 9,
   "metadata": {},
   "outputs": [],
   "source": [
    "#  네이버랩가지고오기\n",
    "#  1. 앱 키 \n",
    "CLIENT_ID , CLIENT_SECRET = 'Zdd_xJ3zOXMjhFVyunEB' ,'BRnHmGrUwM'"
   ]
  },
  {
   "cell_type": "code",
   "execution_count": 12,
   "metadata": {},
   "outputs": [],
   "source": [
    "#  2. url 확인 parms , headers \n",
    "# post 방식임 \n",
    "url = 'https://openapi.naver.com/v1/datalab/search'"
   ]
  },
  {
   "cell_type": "code",
   "execution_count": 15,
   "metadata": {},
   "outputs": [],
   "source": [
    "params = { \n",
    "       'startDate' : '2018-01-01',\n",
    "        'endDate' : '2022-07-31',\n",
    "        'timeUnit' : 'month',\n",
    "        'keywordGroups' :[ \n",
    "            {'groupName' :'트위터', 'keywords': ['트위터','트윗']},\n",
    "            {'groupName' :'페이스북', 'keywords': ['페이스북','페북']},\n",
    "            {'groupName' :'인스타그램', 'keywords': ['인스타그램','인스타 ']}\n",
    "            ]}"
   ]
  },
  {
   "cell_type": "code",
   "execution_count": 16,
   "metadata": {},
   "outputs": [],
   "source": [
    "header = {\n",
    "    'Content-Type': 'application/json',\n",
    "    'X-Naver-Client-Id': CLIENT_ID,\n",
    "    'X-Naver-Client-Secret': CLIENT_SECRET\n",
    "}"
   ]
  },
  {
   "cell_type": "code",
   "execution_count": 42,
   "metadata": {},
   "outputs": [
    {
     "data": {
      "text/plain": [
       "<Response [200]>"
      ]
     },
     "execution_count": 42,
     "metadata": {},
     "output_type": "execute_result"
    }
   ],
   "source": [
    "#  3. requests  (url , params, headers)  - > response(json) : json(str)\\\n",
    "    #json.dumps(params), 파람스에 한글있으면 번역 \n",
    "response = requests.post(url , json.dumps(params),headers=header)\n",
    "response"
   ]
  },
  {
   "cell_type": "code",
   "execution_count": 19,
   "metadata": {},
   "outputs": [
    {
     "data": {
      "text/plain": [
       "'{\"startDate\":\"2018-01-01\",\"endDate\":\"2022-07-31\",\"timeUnit\":\"month\",\"results\":[{\"title\":\"트위터\",\"keywords\":[\"트위터\",\"트윗\"],\"data\":[{\"period\":\"2018-01-01\",\"ratio\":14.59502},{\"period\":\"2018-02-01\",\"ratio\":13.0238},{\"period\":\"2018-03-01\",\"ratio\":12.97953},{\"period\":\"2018-04-01\",\"ratio\":12.82991},{\"period\":\"'"
      ]
     },
     "execution_count": 19,
     "metadata": {},
     "output_type": "execute_result"
    }
   ],
   "source": [
    "response.text[:300]"
   ]
  },
  {
   "cell_type": "code",
   "execution_count": 36,
   "metadata": {},
   "outputs": [
    {
     "data": {
      "text/plain": [
       "{'title': '페이스북',\n",
       " 'keywords': ['페이스북', '페북'],\n",
       " 'data': [{'period': '2018-01-01', 'ratio': 97.80481},\n",
       "  {'period': '2018-02-01', 'ratio': 89.05814},\n",
       "  {'period': '2018-03-01', 'ratio': 98.84292},\n",
       "  {'period': '2018-04-01', 'ratio': 100},\n",
       "  {'period': '2018-05-01', 'ratio': 92.23588},\n",
       "  {'period': '2018-06-01', 'ratio': 91.70143},\n",
       "  {'period': '2018-07-01', 'ratio': 87.916},\n",
       "  {'period': '2018-08-01', 'ratio': 83.56488},\n",
       "  {'period': '2018-09-01', 'ratio': 82.66018},\n",
       "  {'period': '2018-10-01', 'ratio': 81.30381},\n",
       "  {'period': '2018-11-01', 'ratio': 76.80167},\n",
       "  {'period': '2018-12-01', 'ratio': 75.43269},\n",
       "  {'period': '2019-01-01', 'ratio': 70.21709},\n",
       "  {'period': '2019-02-01', 'ratio': 62.57096},\n",
       "  {'period': '2019-03-01', 'ratio': 70.02431},\n",
       "  {'period': '2019-04-01', 'ratio': 71.67271},\n",
       "  {'period': '2019-05-01', 'ratio': 67.79872},\n",
       "  {'period': '2019-06-01', 'ratio': 69.23259},\n",
       "  {'period': '2019-07-01', 'ratio': 64.22088},\n",
       "  {'period': '2019-08-01', 'ratio': 61.74662},\n",
       "  {'period': '2019-09-01', 'ratio': 62.30318},\n",
       "  {'period': '2019-10-01', 'ratio': 62.46025},\n",
       "  {'period': '2019-11-01', 'ratio': 59.88514},\n",
       "  {'period': '2019-12-01', 'ratio': 57.80639},\n",
       "  {'period': '2020-01-01', 'ratio': 55.94828},\n",
       "  {'period': '2020-02-01', 'ratio': 56.90092},\n",
       "  {'period': '2020-03-01', 'ratio': 63.03497},\n",
       "  {'period': '2020-04-01', 'ratio': 57.31923},\n",
       "  {'period': '2020-05-01', 'ratio': 56.65968},\n",
       "  {'period': '2020-06-01', 'ratio': 54.42362},\n",
       "  {'period': '2020-07-01', 'ratio': 56.80884},\n",
       "  {'period': '2020-08-01', 'ratio': 54.60338},\n",
       "  {'period': '2020-09-01', 'ratio': 51.64203},\n",
       "  {'period': '2020-10-01', 'ratio': 48.64782},\n",
       "  {'period': '2020-11-01', 'ratio': 46.34281},\n",
       "  {'period': '2020-12-01', 'ratio': 47.16999},\n",
       "  {'period': '2021-01-01', 'ratio': 43.23795},\n",
       "  {'period': '2021-02-01', 'ratio': 37.94335},\n",
       "  {'period': '2021-03-01', 'ratio': 42.96809},\n",
       "  {'period': '2021-04-01', 'ratio': 42.4486},\n",
       "  {'period': '2021-05-01', 'ratio': 39.64216},\n",
       "  {'period': '2021-06-01', 'ratio': 38.09701},\n",
       "  {'period': '2021-07-01', 'ratio': 36.44556},\n",
       "  {'period': '2021-08-01', 'ratio': 34.16464},\n",
       "  {'period': '2021-09-01', 'ratio': 31.2108},\n",
       "  {'period': '2021-10-01', 'ratio': 32.85607},\n",
       "  {'period': '2021-11-01', 'ratio': 28.60438},\n",
       "  {'period': '2021-12-01', 'ratio': 27.23295},\n",
       "  {'period': '2022-01-01', 'ratio': 25.93933},\n",
       "  {'period': '2022-02-01', 'ratio': 23.6213},\n",
       "  {'period': '2022-03-01', 'ratio': 24.75851},\n",
       "  {'period': '2022-04-01', 'ratio': 22.22382},\n",
       "  {'period': '2022-05-01', 'ratio': 21.65302},\n",
       "  {'period': '2022-06-01', 'ratio': 20.04381},\n",
       "  {'period': '2022-07-01', 'ratio': 19.53712}]}"
      ]
     },
     "execution_count": 36,
     "metadata": {},
     "output_type": "execute_result"
    }
   ],
   "source": [
    "data[1]"
   ]
  },
  {
   "cell_type": "code",
   "execution_count": null,
   "metadata": {},
   "outputs": [],
   "source": [
    "#  4.json(str) - > preprocesiing  -> DataFrame \n",
    "data=response.json()['results']\n",
    "[period['period'] for period in data[0]['data']]\n",
    "\n",
    "df = pd.DataFrame({\n",
    "    'date': [period['period'] for period in data[0]['data']],\n",
    "    'tiwiter': [ratio['ratio'] for ratio in data[0]['data']],\n",
    "    'facebook': [ratio['ratio'] for ratio in data[1]['data']],\n",
    "    'instagram': [ratio['ratio'] for ratio in data[2]['data']],\n",
    "})\n",
    "df"
   ]
  },
  {
   "cell_type": "code",
   "execution_count": 29,
   "metadata": {},
   "outputs": [
    {
     "data": {
      "text/plain": [
       "[1, 9, 25, 49, 81]"
      ]
     },
     "execution_count": 29,
     "metadata": {},
     "output_type": "execute_result"
    }
   ],
   "source": [
    "result = [ ]\n",
    "for num in range(10):\n",
    "    if num % 2 : \n",
    "        result.append(num**2)\n",
    "\n",
    "\n",
    "result   "
   ]
  },
  {
   "cell_type": "code",
   "execution_count": 31,
   "metadata": {},
   "outputs": [
    {
     "data": {
      "text/plain": [
       "[1, 9, 25, 49, 81]"
      ]
     },
     "execution_count": 31,
     "metadata": {},
     "output_type": "execute_result"
    }
   ],
   "source": [
    "result = [num**2 for num in range(10) if num % 2]\n",
    "result"
   ]
  },
  {
   "cell_type": "code",
   "execution_count": 41,
   "metadata": {},
   "outputs": [
    {
     "data": {
      "text/plain": [
       "<AxesSubplot:>"
      ]
     },
     "execution_count": 41,
     "metadata": {},
     "output_type": "execute_result"
    },
    {
     "data": {
      "image/png": "[encoded data removed]",
      "text/plain": [
       "<Figure size 1440x360 with 1 Axes>"
      ]
     },
     "metadata": {
      "needs_background": "light"
     },
     "output_type": "display_data"
    }
   ],
   "source": [
    "#  5. visualiztion \n",
    "df.plot(figsize=(20,5))"
   ]
  },
  {
   "cell_type": "code",
   "execution_count": null,
   "metadata": {},
   "outputs": [],
   "source": [
    "# 카카오 api 사용 주소입력하면 위도경도 우편번호  또는 그 반대로 나오는 API\n"
   ]
  }
 ],
 "metadata": {
  "kernelspec": {
   "display_name": "Python 3.9.7 ('base')",
   "language": "python",
   "name": "python3"
  },
  "language_info": {
   "codemirror_mode": {
    "name": "ipython",
    "version": 3
   },
   "file_extension": ".py",
   "mimetype": "text/x-python",
   "name": "python",
   "nbconvert_exporter": "python",
   "pygments_lexer": "ipython3",
   "version": "3.9.7"
  },
  "orig_nbformat": 4,
  "vscode": {
   "interpreter": {
    "hash": "6ac4e73d11340ea7891153572ed5b2c191aafe1be537ce45d19414621fb20d1a"
   }
  }
 },
 "nbformat": 4,
 "nbformat_minor": 2
}
