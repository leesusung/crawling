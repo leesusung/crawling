{
 "cells": [
  {
   "cell_type": "code",
   "execution_count": null,
   "metadata": {},
   "outputs": [],
   "source": []
  },
  {
   "cell_type": "markdown",
   "metadata": {},
   "source": [
    "html        \n",
    "    \n",
    "웹문서를 작성하는 언어\n",
    "\n",
    "구성요소 \n",
    "    \n",
    "    Document : 한페이지를 나타내는 코드\n",
    "    -Element 하나의 레이아웃  엘리멘트가모여서 Documnet 를 만듬\n",
    "    -Tag : elment 의 종류를 정의 //시작태그 +끝태그 =Element//\n",
    "    -Attribute : 속성값 ㅣ 시작태그에서 태그의 기능 정의 \n",
    "        -id: element \n",
    "        -class : element 를 지정하는 값으로 페이지내에서 여러개 사용가능 \n",
    "        -attr : id , class 를 제외한 나머지 속성값 \n",
    "    -Text : 시작태그와 끝태그 사이의 문자열 \n",
    "\n",
    "엘리먼트는 계층적 구조를 갖습니다."
   ]
  },
  {
   "cell_type": "code",
   "execution_count": 8,
   "metadata": {},
   "outputs": [
    {
     "data": {
      "text/html": [
       "<div class='wrapper'>\n",
       "    <button id='b1' class = \"btn no1\">HTML 1</button>\n",
       "    <button id='b2'class = \"btn no2\">HTML 2</button>\n",
       "    <span>HTML3</span>\n",
       "    <span>pyhon</span>\n",
       "    \n",
       "</div>\n"
      ],
      "text/plain": [
       "<IPython.core.display.HTML object>"
      ]
     },
     "metadata": {},
     "output_type": "display_data"
    }
   ],
   "source": [
    "%%html\n",
    "<div class='wrapper'>\n",
    "    <button id='b1' class = \"btn no1\">HTML 1</button>\n",
    "    <button id='b2'class = \"btn no2\">HTML 2</button>\n",
    "    <span>HTML3</span>\n",
    "    <span>pyhon</span>\n",
    "    \n",
    "</div>"
   ]
  },
  {
   "cell_type": "markdown",
   "metadata": {},
   "source": [
    "HTML 태크종류 \n",
    "\n",
    "p : 한줄문자열 출력\n",
    "\n",
    "span : 한블럭의 문자열 출력 "
   ]
  },
  {
   "cell_type": "code",
   "execution_count": 13,
   "metadata": {},
   "outputs": [
    {
     "data": {
      "text/html": [
       "<ul>\n",
       "    <li>pyhton 1</li>\n",
       "    <li>pyhton 2</li>\n",
       "<ul>\n",
       "# 리스트문자열 출력\n"
      ],
      "text/plain": [
       "<IPython.core.display.HTML object>"
      ]
     },
     "metadata": {},
     "output_type": "display_data"
    }
   ],
   "source": [
    "\n",
    "\n",
    "%%html\n",
    "<ul>\n",
    "    <li>pyhton 1</li>\n",
    "    <li>pyhton 2</li>\n",
    "<ul>\n",
    "# 리스트문자열 출력"
   ]
  },
  {
   "cell_type": "code",
   "execution_count": 15,
   "metadata": {},
   "outputs": [
    {
     "data": {
      "text/html": [
       "    <a href='https://kt.com' target='_blink'>Click</a>\n",
       "# 링크를 나타내는 태그\n"
      ],
      "text/plain": [
       "<IPython.core.display.HTML object>"
      ]
     },
     "metadata": {},
     "output_type": "display_data"
    }
   ],
   "source": [
    "\n",
    "%%html\n",
    "    <a href='https://kt.com' target='_blink'>Click</a>\n",
    "# 링크를 나타내는 태그"
   ]
  },
  {
   "cell_type": "code",
   "execution_count": 25,
   "metadata": {},
   "outputs": [
    {
     "data": {
      "text/html": [
       "    <a href='https://kt.com'>Click</a>\n"
      ],
      "text/plain": [
       "<IPython.core.display.HTML object>"
      ]
     },
     "metadata": {},
     "output_type": "display_data"
    }
   ],
   "source": [
    "%%html\n",
    "    <a href='https://kt.com'>Click</a>"
   ]
  },
  {
   "cell_type": "code",
   "execution_count": 17,
   "metadata": {},
   "outputs": [],
   "source": [
    "# 이미지출력태그"
   ]
  },
  {
   "cell_type": "code",
   "execution_count": 20,
   "metadata": {},
   "outputs": [
    {
     "data": {
      "text/html": [
       "<img src=\"https://cfm.kt.com/images/v2/layout/gnb-ktlogo.png\">\n"
      ],
      "text/plain": [
       "<IPython.core.display.HTML object>"
      ]
     },
     "metadata": {},
     "output_type": "display_data"
    }
   ],
   "source": [
    "%%html\n",
    "<img src=\"https://cfm.kt.com/images/v2/layout/gnb-ktlogo.png\">"
   ]
  },
  {
   "cell_type": "code",
   "execution_count": 21,
   "metadata": {},
   "outputs": [],
   "source": [
    "#  iframe  외부 Url 링크에 해당하는 웹페이지 출력\n"
   ]
  },
  {
   "cell_type": "code",
   "execution_count": 26,
   "metadata": {},
   "outputs": [
    {
     "data": {
      "text/html": [
       "<iframe src=\"https://kt.com\">\n"
      ],
      "text/plain": [
       "<IPython.core.display.HTML object>"
      ]
     },
     "metadata": {},
     "output_type": "display_data"
    }
   ],
   "source": [
    "%%html\n",
    "<iframe src=\"https://kt.com\">"
   ]
  },
  {
   "cell_type": "code",
   "execution_count": 27,
   "metadata": {},
   "outputs": [],
   "source": [
    "#  div 레이아웃을 나타내는 태그\n"
   ]
  },
  {
   "cell_type": "code",
   "execution_count": 28,
   "metadata": {},
   "outputs": [
    {
     "data": {
      "text/html": [
       "<div>\n",
       "    <p>pyhon 1 </p>\n",
       "    <p>pyhon 2 </p>\n",
       "</div>   \n",
       "<div>\n",
       "    <p>pyhon 3 </p>\n",
       "</div>   \n",
       " \n",
       " \n",
       "    \n"
      ],
      "text/plain": [
       "<IPython.core.display.HTML object>"
      ]
     },
     "metadata": {},
     "output_type": "display_data"
    }
   ],
   "source": [
    "%%html \n",
    "<div>\n",
    "    <p>pyhon 1 </p>\n",
    "    <p>pyhon 2 </p>\n",
    "</div>   \n",
    "<div>\n",
    "    <p>pyhon 3 </p>\n",
    "</div>   \n",
    " \n",
    " \n",
    "    "
   ]
  },
  {
   "cell_type": "code",
   "execution_count": 29,
   "metadata": {},
   "outputs": [],
   "source": [
    "#  table  행열로 되어있는 테이블 출력 "
   ]
  },
  {
   "cell_type": "code",
   "execution_count": 31,
   "metadata": {},
   "outputs": [
    {
     "data": {
      "text/html": [
       "<table>\n",
       "    <caption>제목</caption>\n",
       "    <thead>\n",
       "        <tr>\n",
       "            <th>column 1</th>\n",
       "            <th>column 2</th>\n",
       "        </tr>\n",
       "    </thead>\n",
       "    <tbody>\n",
       "        <tr>\n",
       "            <td>data 1</td>\n",
       "            <td>data 2</td>\n",
       "        </tr>\n",
       "        <tr>\n",
       "            <td>data 3</td>\n",
       "            <td>data 4</td>\n",
       "        </tr>\n",
       "    </tbody>\n",
       "</table>\n"
      ],
      "text/plain": [
       "<IPython.core.display.HTML object>"
      ]
     },
     "metadata": {},
     "output_type": "display_data"
    }
   ],
   "source": [
    "%%html\n",
    "<table>\n",
    "    <caption>제목</caption>\n",
    "    <thead>\n",
    "        <tr>\n",
    "            <th>column 1</th>\n",
    "            <th>column 2</th>\n",
    "        </tr>\n",
    "    </thead>\n",
    "    <tbody>\n",
    "        <tr>\n",
    "            <td>data 1</td>\n",
    "            <td>data 2</td>\n",
    "        </tr>\n",
    "        <tr>\n",
    "            <td>data 3</td>\n",
    "            <td>data 4</td>\n",
    "        </tr>\n",
    "    </tbody>\n",
    "</table>"
   ]
  },
  {
   "cell_type": "code",
   "execution_count": null,
   "metadata": {},
   "outputs": [],
   "source": [
    "# 부동소수점 에러 "
   ]
  },
  {
   "cell_type": "code",
   "execution_count": 32,
   "metadata": {},
   "outputs": [
    {
     "name": "stdout",
     "output_type": "stream",
     "text": [
      "0.1 0.2\n"
     ]
    }
   ],
   "source": [
    "data1 , data2 = 0.1 , 0.2\n",
    "print(data1 , data2)"
   ]
  },
  {
   "cell_type": "code",
   "execution_count": 36,
   "metadata": {},
   "outputs": [
    {
     "data": {
      "text/plain": [
       "True"
      ]
     },
     "execution_count": 36,
     "metadata": {},
     "output_type": "execute_result"
    }
   ],
   "source": [
    "#반올림해서 해결\n",
    "round(data1+data2 ,1)==0.3"
   ]
  },
  {
   "cell_type": "code",
   "execution_count": 38,
   "metadata": {},
   "outputs": [
    {
     "data": {
      "text/plain": [
       "True"
      ]
     },
     "execution_count": 38,
     "metadata": {},
     "output_type": "execute_result"
    }
   ],
   "source": [
    "#  고정소수점 방식으로 연산\n",
    "from decimal import Decimal\n",
    "float(Decimal(str(data1))+Decimal(str(data2))) == 0.3"
   ]
  },
  {
   "cell_type": "code",
   "execution_count": 39,
   "metadata": {},
   "outputs": [
    {
     "data": {
      "text/html": [
       "<div> python 1 </div>\n",
       "<p>python 2 </p>\n",
       "<span> pyhton 3 </span>\n"
      ],
      "text/plain": [
       "<IPython.core.display.HTML object>"
      ]
     },
     "metadata": {},
     "output_type": "display_data"
    }
   ],
   "source": [
    "%%html \n",
    "<div id = 'kt'>\n",
    "<div> python 1 </div>\n",
    "<p>python 2 </p>\n",
    "<span> pyhton 3 </span>"
   ]
  },
  {
   "cell_type": "code",
   "execution_count": null,
   "metadata": {},
   "outputs": [],
   "source": []
  }
 ],
 "metadata": {
  "kernelspec": {
   "display_name": "Python 3.9.7 ('base')",
   "language": "python",
   "name": "python3"
  },
  "language_info": {
   "codemirror_mode": {
    "name": "ipython",
    "version": 3
   },
   "file_extension": ".py",
   "mimetype": "text/x-python",
   "name": "python",
   "nbconvert_exporter": "python",
   "pygments_lexer": "ipython3",
   "version": "3.9.7"
  },
  "orig_nbformat": 4,
  "vscode": {
   "interpreter": {
    "hash": "6ac4e73d11340ea7891153572ed5b2c191aafe1be537ce45d19414621fb20d1a"
   }
  }
 },
 "nbformat": 4,
 "nbformat_minor": 2
}
