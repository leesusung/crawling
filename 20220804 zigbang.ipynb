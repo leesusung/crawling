{
 "cells": [
  {
   "cell_type": "code",
   "execution_count": 6,
   "metadata": {},
   "outputs": [
    {
     "name": "stdout",
     "output_type": "stream",
     "text": [
      "Collecting geohash2\n",
      "  Downloading geohash2-1.1.tar.gz (15 kB)\n",
      "Requirement already satisfied: docutils>=0.3 in c:\\users\\user\\anaconda3\\lib\\site-packages (from geohash2) (0.17)\n",
      "Building wheels for collected packages: geohash2\n",
      "  Building wheel for geohash2 (setup.py): started\n",
      "  Building wheel for geohash2 (setup.py): finished with status 'done'\n",
      "  Created wheel for geohash2: filename=geohash2-1.1-py3-none-any.whl size=15544 sha256=d36f799fae981afe0e5be2c05195a45c3b711486278baaaee7c10bb792c2fca6\n",
      "  Stored in directory: c:\\users\\user\\appdata\\local\\pip\\cache\\wheels\\2d\\0c\\66\\dcd768c9e7c26fc81ec59bfe24af9d780fc9dbdf7f90b0cf00\n",
      "Successfully built geohash2\n",
      "Installing collected packages: geohash2\n",
      "Successfully installed geohash2-1.1\n"
     ]
    }
   ],
   "source": [
    "!pip install geohash2"
   ]
  },
  {
   "cell_type": "code",
   "execution_count": 7,
   "metadata": {},
   "outputs": [],
   "source": [
    "import requests \n",
    "import pandas as pd\n",
    "import geohash2"
   ]
  },
  {
   "cell_type": "markdown",
   "metadata": {},
   "source": [
    "#  직방 원룸매물정보수집\n",
    "  -절차 \n",
    "   동이름  >  위도 경도 수집 1\n",
    "\n",
    "  위도경도 > geohash 변환\n",
    "\n",
    "  geohash > 매물아이디  2 \n",
    "  매물아이디 >  매물 정보 3\n",
    "requests 를 3번해야함\n"
   ]
  },
  {
   "cell_type": "markdown",
   "metadata": {},
   "source": []
  },
  {
   "cell_type": "code",
   "execution_count": 56,
   "metadata": {},
   "outputs": [
    {
     "data": {
      "text/plain": [
       "(37.495365142822266, 127.03306579589844)"
      ]
     },
     "execution_count": 56,
     "metadata": {},
     "output_type": "execute_result"
    }
   ],
   "source": [
    "#  동이름 - > 위도 경도 \n",
    "addr='강남구 역삼동'\n",
    "url= f'https://apis.zigbang.com/v2/search?leaseYn=N&q={addr}&serviceType=원룸'\n",
    "response = requests.get(url)\n",
    "data=response.json()['items'][0]\n",
    "lat, lng = data['lat'], data['lng']\n",
    "lat , lng\n"
   ]
  },
  {
   "cell_type": "code",
   "execution_count": 19,
   "metadata": {},
   "outputs": [
    {
     "data": {
      "text/plain": [
       "'wydm6'"
      ]
     },
     "execution_count": 19,
     "metadata": {},
     "output_type": "execute_result"
    }
   ],
   "source": [
    "#  위도 경도  - > geohash \n",
    "#  precision 이커질수록 영역이 작이짐\n",
    "geohash =geohash2.encode(lat, lng , precision = 5)\n",
    "geohash"
   ]
  },
  {
   "cell_type": "markdown",
   "metadata": {},
   "source": [
    "post할때 어떤 파라미터가 필요한지는 개발자 도구의 Payload에서 찾아보기"
   ]
  },
  {
   "cell_type": "code",
   "execution_count": 29,
   "metadata": {},
   "outputs": [],
   "source": [
    "#  geohash  - > 매물아이다 \n",
    "url =f'https://apis.zigbang.com/v2/items?deposit_gteq=0&domain=zigbang&geohash={geohash}&needHasNoFiltered=true&rent_gteq=0&sales_type_in=전세|월세&service_type_eq=원룸'\n",
    "response =requests.get(url)\n",
    "items=response.json()['items']\n",
    "ids = [item['item_id'] for item in items]"
   ]
  },
  {
   "cell_type": "code",
   "execution_count": 31,
   "metadata": {},
   "outputs": [
    {
     "data": {
      "text/plain": [
       "[32819635, 32838798, 32872608, 32838700, 32767020]"
      ]
     },
     "execution_count": 31,
     "metadata": {},
     "output_type": "execute_result"
    }
   ],
   "source": [
    "ids[:5]"
   ]
  },
  {
   "cell_type": "code",
   "execution_count": 33,
   "metadata": {},
   "outputs": [
    {
     "data": {
      "text/plain": [
       "<Response [200]>"
      ]
     },
     "execution_count": 33,
     "metadata": {},
     "output_type": "execute_result"
    }
   ],
   "source": [
    "#  매물아이디  - >  매물 정보\n",
    "url = 'https://apis.zigbang.com/v2/items/list'\n",
    "params= {\n",
    "    'domain': \"zigbang\",\n",
    "    'withCoalition': 'true',\n",
    "    'item_ids' : ids[:900]\n",
    "}\n",
    "\n",
    "response =requests.post(url,params)\n",
    "response"
   ]
  },
  {
   "cell_type": "markdown",
   "metadata": {},
   "source": []
  },
  {
   "cell_type": "code",
   "execution_count": null,
   "metadata": {},
   "outputs": [],
   "source": [
    "items=response.json()['items']\n",
    "items[:2]\n",
    "#  리스트안에 딕셔너리면 바로 DF 하면됨"
   ]
  },
  {
   "cell_type": "code",
   "execution_count": 44,
   "metadata": {},
   "outputs": [],
   "source": [
    "#  maxrow max columns 설정하기 \n",
    "pd.options.display.max_columns = 30"
   ]
  },
  {
   "cell_type": "code",
   "execution_count": 42,
   "metadata": {},
   "outputs": [
    {
     "data": {
      "text/html": [
       "<div>\n",
       "<style scoped>\n",
       "    .dataframe tbody tr th:only-of-type {\n",
       "        vertical-align: middle;\n",
       "    }\n",
       "\n",
       "    .dataframe tbody tr th {\n",
       "        vertical-align: top;\n",
       "    }\n",
       "\n",
       "    .dataframe thead th {\n",
       "        text-align: right;\n",
       "    }\n",
       "</style>\n",
       "<table border=\"1\" class=\"dataframe\">\n",
       "  <thead>\n",
       "    <tr style=\"text-align: right;\">\n",
       "      <th></th>\n",
       "      <th>item_id</th>\n",
       "      <th>sales_type</th>\n",
       "      <th>deposit</th>\n",
       "      <th>rent</th>\n",
       "      <th>size_m2</th>\n",
       "      <th>address1</th>\n",
       "      <th>manage_cost</th>\n",
       "    </tr>\n",
       "  </thead>\n",
       "  <tbody>\n",
       "    <tr>\n",
       "      <th>898</th>\n",
       "      <td>32809154</td>\n",
       "      <td>월세</td>\n",
       "      <td>120</td>\n",
       "      <td>70</td>\n",
       "      <td>19.83</td>\n",
       "      <td>서울시 강남구 역삼동</td>\n",
       "      <td>9</td>\n",
       "    </tr>\n",
       "    <tr>\n",
       "      <th>899</th>\n",
       "      <td>32844154</td>\n",
       "      <td>월세</td>\n",
       "      <td>100</td>\n",
       "      <td>100</td>\n",
       "      <td>29.75</td>\n",
       "      <td>서울시 강남구 역삼동</td>\n",
       "      <td>9</td>\n",
       "    </tr>\n",
       "  </tbody>\n",
       "</table>\n",
       "</div>"
      ],
      "text/plain": [
       "      item_id sales_type  deposit  rent  size_m2     address1 manage_cost\n",
       "898  32809154         월세      120    70    19.83  서울시 강남구 역삼동           9\n",
       "899  32844154         월세      100   100    29.75  서울시 강남구 역삼동           9"
      ]
     },
     "execution_count": 42,
     "metadata": {},
     "output_type": "execute_result"
    }
   ],
   "source": [
    "items = response.json()[\"items\"] \n",
    "columns = [\"item_id\", \"sales_type\", \"deposit\", \"rent\", \"size_m2\", \"address1\", \"manage_cost\"]\n",
    "df = pd.DataFrame(items)[columns] \n",
    "df.tail(2)"
   ]
  },
  {
   "cell_type": "code",
   "execution_count": 61,
   "metadata": {},
   "outputs": [],
   "source": [
    "def oneroom(addr):\n",
    "    url= f'https://apis.zigbang.com/v2/search?leaseYn=N&q={addr}&serviceType=원룸'   #매물데이터 크롤링하기\n",
    "    response = requests.get(url)\n",
    "    data=response.json()['items'][0]\n",
    "    lat, lng = data['lat'], data['lng'] \n",
    "    \n",
    "    geohash =geohash2.encode(lat, lng , precision = 5)    \n",
    "    #위도경도 해쉬넘버로 인코딩 \n",
    "    \n",
    "    url =f'https://apis.zigbang.com/v2/items?deposit_gteq=0&domain=zigbang&geohash={geohash}&needHasNoFiltered=true&rent_gteq=0&sales_type_in=전세|월세&service_type_eq=원룸'\n",
    "    response =requests.get(url)\n",
    "    items=response.json()['items']\n",
    "    ids = [item['item_id'] for item in items]\n",
    "    \n",
    "    url = 'https://apis.zigbang.com/v2/items/list'\n",
    "    params= {\n",
    "    'domain': \"zigbang\",\n",
    "    'withCoalition': 'true',\n",
    "    'item_ids' : ids[:900]\n",
    "        }   \n",
    "    response =requests.post(url,params)\n",
    "    \n",
    "    items = response.json()[\"items\"]\n",
    "    columns = [\"item_id\", \"sales_type\", \"deposit\", \"rent\", \"size_m2\", \"address1\", \"manage_cost\"]\n",
    "    return pd.DataFrame(items)[columns] "
   ]
  },
  {
   "cell_type": "code",
   "execution_count": 62,
   "metadata": {},
   "outputs": [],
   "source": [
    "addr = '마포구 합정동'\n",
    "df2 = oneroom(addr)"
   ]
  },
  {
   "cell_type": "code",
   "execution_count": 63,
   "metadata": {},
   "outputs": [
    {
     "data": {
      "text/html": [
       "<div>\n",
       "<style scoped>\n",
       "    .dataframe tbody tr th:only-of-type {\n",
       "        vertical-align: middle;\n",
       "    }\n",
       "\n",
       "    .dataframe tbody tr th {\n",
       "        vertical-align: top;\n",
       "    }\n",
       "\n",
       "    .dataframe thead th {\n",
       "        text-align: right;\n",
       "    }\n",
       "</style>\n",
       "<table border=\"1\" class=\"dataframe\">\n",
       "  <thead>\n",
       "    <tr style=\"text-align: right;\">\n",
       "      <th></th>\n",
       "      <th>item_id</th>\n",
       "      <th>sales_type</th>\n",
       "      <th>deposit</th>\n",
       "      <th>rent</th>\n",
       "      <th>size_m2</th>\n",
       "      <th>address1</th>\n",
       "      <th>manage_cost</th>\n",
       "    </tr>\n",
       "  </thead>\n",
       "  <tbody>\n",
       "    <tr>\n",
       "      <th>0</th>\n",
       "      <td>32864713</td>\n",
       "      <td>전세</td>\n",
       "      <td>9000</td>\n",
       "      <td>0</td>\n",
       "      <td>21.49</td>\n",
       "      <td>서울시 영등포구 당산동4가</td>\n",
       "      <td>13</td>\n",
       "    </tr>\n",
       "    <tr>\n",
       "      <th>1</th>\n",
       "      <td>32694522</td>\n",
       "      <td>전세</td>\n",
       "      <td>9000</td>\n",
       "      <td>0</td>\n",
       "      <td>19.83</td>\n",
       "      <td>서울시 영등포구 당산동4가</td>\n",
       "      <td>13</td>\n",
       "    </tr>\n",
       "    <tr>\n",
       "      <th>2</th>\n",
       "      <td>32822043</td>\n",
       "      <td>전세</td>\n",
       "      <td>9000</td>\n",
       "      <td>0</td>\n",
       "      <td>16.53</td>\n",
       "      <td>서울시 영등포구 당산동4가</td>\n",
       "      <td>13</td>\n",
       "    </tr>\n",
       "    <tr>\n",
       "      <th>3</th>\n",
       "      <td>32827028</td>\n",
       "      <td>전세</td>\n",
       "      <td>9000</td>\n",
       "      <td>0</td>\n",
       "      <td>19.83</td>\n",
       "      <td>서울시 영등포구 당산동4가</td>\n",
       "      <td>13</td>\n",
       "    </tr>\n",
       "    <tr>\n",
       "      <th>4</th>\n",
       "      <td>32856780</td>\n",
       "      <td>전세</td>\n",
       "      <td>7000</td>\n",
       "      <td>0</td>\n",
       "      <td>19.83</td>\n",
       "      <td>서울시 영등포구 당산동4가</td>\n",
       "      <td>13</td>\n",
       "    </tr>\n",
       "    <tr>\n",
       "      <th>...</th>\n",
       "      <td>...</td>\n",
       "      <td>...</td>\n",
       "      <td>...</td>\n",
       "      <td>...</td>\n",
       "      <td>...</td>\n",
       "      <td>...</td>\n",
       "      <td>...</td>\n",
       "    </tr>\n",
       "    <tr>\n",
       "      <th>741</th>\n",
       "      <td>32831032</td>\n",
       "      <td>월세</td>\n",
       "      <td>200</td>\n",
       "      <td>65</td>\n",
       "      <td>18.18</td>\n",
       "      <td>서울시 마포구 성산동</td>\n",
       "      <td>7</td>\n",
       "    </tr>\n",
       "    <tr>\n",
       "      <th>742</th>\n",
       "      <td>32775788</td>\n",
       "      <td>전세</td>\n",
       "      <td>16500</td>\n",
       "      <td>0</td>\n",
       "      <td>19.83</td>\n",
       "      <td>서울시 마포구 성산동</td>\n",
       "      <td>1</td>\n",
       "    </tr>\n",
       "    <tr>\n",
       "      <th>743</th>\n",
       "      <td>32589981</td>\n",
       "      <td>전세</td>\n",
       "      <td>43000</td>\n",
       "      <td>0</td>\n",
       "      <td>49.00</td>\n",
       "      <td>서울시 마포구 중동</td>\n",
       "      <td>7</td>\n",
       "    </tr>\n",
       "    <tr>\n",
       "      <th>744</th>\n",
       "      <td>32862490</td>\n",
       "      <td>전세</td>\n",
       "      <td>43000</td>\n",
       "      <td>0</td>\n",
       "      <td>31.74</td>\n",
       "      <td>서울시 마포구 중동</td>\n",
       "      <td>5</td>\n",
       "    </tr>\n",
       "    <tr>\n",
       "      <th>745</th>\n",
       "      <td>32866975</td>\n",
       "      <td>월세</td>\n",
       "      <td>3000</td>\n",
       "      <td>90</td>\n",
       "      <td>49.59</td>\n",
       "      <td>서울시 마포구 중동</td>\n",
       "      <td>2</td>\n",
       "    </tr>\n",
       "  </tbody>\n",
       "</table>\n",
       "<p>746 rows × 7 columns</p>\n",
       "</div>"
      ],
      "text/plain": [
       "      item_id sales_type  deposit  rent  size_m2        address1 manage_cost\n",
       "0    32864713         전세     9000     0    21.49  서울시 영등포구 당산동4가          13\n",
       "1    32694522         전세     9000     0    19.83  서울시 영등포구 당산동4가          13\n",
       "2    32822043         전세     9000     0    16.53  서울시 영등포구 당산동4가          13\n",
       "3    32827028         전세     9000     0    19.83  서울시 영등포구 당산동4가          13\n",
       "4    32856780         전세     7000     0    19.83  서울시 영등포구 당산동4가          13\n",
       "..        ...        ...      ...   ...      ...             ...         ...\n",
       "741  32831032         월세      200    65    18.18     서울시 마포구 성산동           7\n",
       "742  32775788         전세    16500     0    19.83     서울시 마포구 성산동           1\n",
       "743  32589981         전세    43000     0    49.00      서울시 마포구 중동           7\n",
       "744  32862490         전세    43000     0    31.74      서울시 마포구 중동           5\n",
       "745  32866975         월세     3000    90    49.59      서울시 마포구 중동           2\n",
       "\n",
       "[746 rows x 7 columns]"
      ]
     },
     "execution_count": 63,
     "metadata": {},
     "output_type": "execute_result"
    }
   ],
   "source": [
    "df2"
   ]
  },
  {
   "cell_type": "code",
   "execution_count": 67,
   "metadata": {},
   "outputs": [
    {
     "name": "stdout",
     "output_type": "stream",
     "text": [
      "Overwriting zigbang.py\n"
     ]
    }
   ],
   "source": [
    "%%writefile zigbang.py\n",
    "import requests \n",
    "import pandas as pd\n",
    "import geohash2\n",
    "\n",
    "\n",
    "def oneroom(addr):\n",
    "    url= f'https://apis.zigbang.com/v2/search?leaseYn=N&q={addr}&serviceType=원룸'   #매물데이터 크롤링하기\n",
    "    response = requests.get(url)\n",
    "    data=response.json()['items'][0]\n",
    "    lat, lng = data['lat'], data['lng'] \n",
    "    \n",
    "    geohash =geohash2.encode(lat, lng , precision = 5)    \n",
    "    #위도경도 해쉬넘버로 인코딩 \n",
    "    \n",
    "    url =f'https://apis.zigbang.com/v2/items?deposit_gteq=0&domain=zigbang&geohash={geohash}&needHasNoFiltered=true&rent_gteq=0&sales_type_in=전세|월세&service_type_eq=원룸'\n",
    "    response =requests.get(url)\n",
    "    items=response.json()['items']\n",
    "    ids = [item['item_id'] for item in items]\n",
    "    \n",
    "    url = 'https://apis.zigbang.com/v2/items/list'\n",
    "    params= {\n",
    "    'domain': \"zigbang\",\n",
    "    'withCoalition': 'true',\n",
    "    'item_ids' : ids[:900]\n",
    "        }   \n",
    "    response =requests.post(url,params)\n",
    "    \n",
    "    items = response.json()[\"items\"]\n",
    "    columns = [\"item_id\", \"sales_type\", \"deposit\", \"rent\", \"size_m2\", \"address1\", \"manage_cost\"]\n",
    "    return pd.DataFrame(items)[columns] \n",
    "#  모듈 파일만들기 .py"
   ]
  },
  {
   "cell_type": "code",
   "execution_count": null,
   "metadata": {},
   "outputs": [],
   "source": []
  }
 ],
 "metadata": {
  "kernelspec": {
   "display_name": "Python 3.9.7 ('base')",
   "language": "python",
   "name": "python3"
  },
  "language_info": {
   "codemirror_mode": {
    "name": "ipython",
    "version": 3
   },
   "file_extension": ".py",
   "mimetype": "text/x-python",
   "name": "python",
   "nbconvert_exporter": "python",
   "pygments_lexer": "ipython3",
   "version": "3.9.7"
  },
  "orig_nbformat": 4,
  "vscode": {
   "interpreter": {
    "hash": "6ac4e73d11340ea7891153572ed5b2c191aafe1be537ce45d19414621fb20d1a"
   }
  }
 },
 "nbformat": 4,
 "nbformat_minor": 2
}
